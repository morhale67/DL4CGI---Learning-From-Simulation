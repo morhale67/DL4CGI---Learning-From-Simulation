{
 "cells": [
  {
   "cell_type": "code",
   "execution_count": 8,
   "id": "72ebbb13",
   "metadata": {},
   "outputs": [],
   "source": [
    "import pickle\n",
    "\n",
    "with open(\"numerical_outputs.pkl\", \"rb\") as f:\n",
    "    obj = pickle.load(f)"
   ]
  },
  {
   "cell_type": "code",
   "execution_count": 11,
   "id": "5c62049b",
   "metadata": {},
   "outputs": [
    {
     "data": {
      "text/plain": [
       "{'train_loss': [0.5339304208755493, 0.43455134704709053, 0.43453846126794815],\n",
       " 'test_loss': [0.4473762810230255, 0.4473762810230255, 0.4473762810230255],\n",
       " 'train_psnr': [-0.12266434248356084, 0.6109735774768955, 0.6111038403384803],\n",
       " 'test_psnr': [0.4838623829938331, 0.4838623829938331, 0.4838623829938331],\n",
       " 'train_ssim': [-0.0005737857849610944,\n",
       "  4.280605927390015e-05,\n",
       "  4.2468722490357127e-05],\n",
       " 'test_ssim': [5.028022934592573e-05,\n",
       "  5.028022934592573e-05,\n",
       "  5.028022934592573e-05]}"
      ]
     },
     "execution_count": 11,
     "metadata": {},
     "output_type": "execute_result"
    }
   ],
   "source": [
    "obj"
   ]
  }
 ],
 "metadata": {
  "kernelspec": {
   "display_name": "Python 3 (ipykernel)",
   "language": "python",
   "name": "python3"
  },
  "language_info": {
   "codemirror_mode": {
    "name": "ipython",
    "version": 3
   },
   "file_extension": ".py",
   "mimetype": "text/x-python",
   "name": "python",
   "nbconvert_exporter": "python",
   "pygments_lexer": "ipython3",
   "version": "3.10.12"
  }
 },
 "nbformat": 4,
 "nbformat_minor": 5
}
